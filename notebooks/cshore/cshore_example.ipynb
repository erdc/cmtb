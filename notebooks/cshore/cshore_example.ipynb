{
 "cells": [
  {
   "cell_type": "code",
   "execution_count": null,
   "metadata": {},
   "outputs": [],
   "source": [
    "import sys\n",
    "sys.path.insert(0, '/Users/rdchlth9/Codes/cmtb_refactor/')\n",
    "from getdatatestbed import getDataFRF\n",
    "from prepdata.prepDataLib import PrepDataTools as preptools\n",
    "from prepdata import inputOutput\n",
    "from prepdata import writeRunRead as wrr\n",
    "from testbedutils import fileHandling\n",
    "\n",
    "import datetime\n",
    "import matplotlib.pyplot as plt\n",
    "import numpy as np\n",
    "import netCDF4 as nc4\n",
    "import os\n",
    "import plotly\n",
    "import pickle\n",
    "import yaml\n",
    "%matplotlib inline"
   ]
  },
  {
   "cell_type": "code",
   "execution_count": null,
   "metadata": {},
   "outputs": [],
   "source": [
    "d1 = datetime.datetime(2018,3,5,0,0,0)\n",
    "d2 = datetime.datetime(2018,3,6,0,0,0)\n",
    "simduration = 24.\n",
    "ftime = 24*3600.\n",
    "dt = 3600. #seconds has to be a float and not an integer\n",
    "reltime = np.arange(0,ftime+dt,dt)\n",
    "fname = 'march_test'"
   ]
  },
  {
   "cell_type": "code",
   "execution_count": null,
   "metadata": {},
   "outputs": [],
   "source": [
    "go = getDataFRF.getObs(d1-datetime.timedelta(hours=3),d2+datetime.timedelta(hours=3))"
   ]
  },
  {
   "cell_type": "code",
   "execution_count": null,
   "metadata": {},
   "outputs": [],
   "source": [
    "#rawWL = go.getWL()\n",
    "#rawwave_data8m = go.getWaveSpec('8m-array')\n",
    "rawwave_data6m = go.getWaveData('awac-6m',spec=True)\n",
    "#rawwind = go.getWind()"
   ]
  },
  {
   "cell_type": "code",
   "execution_count": null,
   "metadata": {},
   "outputs": [],
   "source": [
    "#cmtb_data = getDataFRF.getDataTestBed(d1, d1+datetime.timedelta(minutes=1))\n",
    "#bathy_data = cmtb_data.getBathyIntegratedTransect()"
   ]
  },
  {
   "cell_type": "code",
   "execution_count": null,
   "metadata": {},
   "outputs": [],
   "source": [
    "prepdata = preptools()"
   ]
  },
  {
   "cell_type": "markdown",
   "metadata": {},
   "source": [
    "this is just a simple function to alleviate some clutter in frontBackCSHORE.  It basically takes in the\n",
    "        wave gauge data from the 8m and 6m gauges, as well as the prev wave gauge if one is available, then decides\n",
    "        which data need to be used"
   ]
  },
  {
   "cell_type": "code",
   "execution_count": null,
   "metadata": {},
   "outputs": [],
   "source": [
    "#creates processed wave packet for cshore\n",
    "waves = prepdata.prep_CSHOREwaves(rawwave_data6m, reltime , d1)"
   ]
  },
  {
   "cell_type": "code",
   "execution_count": null,
   "metadata": {},
   "outputs": [],
   "source": [
    "#Bathy stuff is really slow right now. look into it"
   ]
  },
  {
   "cell_type": "code",
   "execution_count": null,
   "metadata": {},
   "outputs": [],
   "source": [
    "bathy_loc = 'survey'\n",
    "profile_num = 960\n",
    "dx = 1\n",
    "fric_fac = 0.015"
   ]
  },
  {
   "cell_type": "code",
   "execution_count": null,
   "metadata": {},
   "outputs": [],
   "source": [
    "#prof_nums = go.getBathyTransectProfNum()\n",
    "#print(prof_nums)"
   ]
  },
  {
   "cell_type": "code",
   "execution_count": null,
   "metadata": {},
   "outputs": [],
   "source": [
    "bathy_data = go.getBathyTransectFromNC(profilenumbers=960)"
   ]
  },
  {
   "cell_type": "code",
   "execution_count": null,
   "metadata": {},
   "outputs": [],
   "source": [
    "with open('bathysave.p', 'wb') as fid:\n",
    "    pickle.dump(bathy_data, fid, protocol=pickle.HIGHEST_PROTOCOL)"
   ]
  },
  {
   "cell_type": "code",
   "execution_count": null,
   "metadata": {},
   "outputs": [],
   "source": [
    "b_dict = prepdata.prep_CSHOREbathy(bathy_data, bathy_loc, profile_num, dx, waves, fric_fac)\n",
    "print(bathy_data)\n",
    "print(b_dict)"
   ]
  },
  {
   "cell_type": "markdown",
   "metadata": {},
   "source": [
    "## get water levels"
   ]
  },
  {
   "cell_type": "code",
   "execution_count": null,
   "metadata": {},
   "outputs": [],
   "source": [
    "rawWL = go.getWL()"
   ]
  },
  {
   "cell_type": "code",
   "execution_count": null,
   "metadata": {},
   "outputs": [],
   "source": [
    "wlTimeList = [d1 + datetime.timedelta(seconds=tt) for tt in reltime]\n",
    "wl_data = prepdata.prep_WL(rawWL,wlTimeList)"
   ]
  },
  {
   "cell_type": "code",
   "execution_count": null,
   "metadata": {},
   "outputs": [],
   "source": [
    "ctd_data = go.getCTD()"
   ]
  },
  {
   "cell_type": "code",
   "execution_count": null,
   "metadata": {},
   "outputs": [],
   "source": [
    "wl_data"
   ]
  },
  {
   "cell_type": "markdown",
   "metadata": {},
   "source": [
    "## make input files"
   ]
  },
  {
   "cell_type": "code",
   "execution_count": null,
   "metadata": {},
   "outputs": [],
   "source": [
    "cshoreio = wrr.cshoreio(pathPrefix='/Users/rdchlth9/Codes/cmtb_refactor/notetbooks/cshore/data', fNameBase=fname+'_cmtb', versionPrefix='base',\n",
    "                     startTime=d1, endTime=d2, runFlag=True,\n",
    "                     generateFlag=True, readFlag=False)"
   ]
  },
  {
   "cell_type": "code",
   "execution_count": null,
   "metadata": {},
   "outputs": [],
   "source": [
    "if not os.path.isdir(cshoreio.workingDirectory):\n",
    "    os.makedirs(cshoreio.workingDirectory)"
   ]
  },
  {
   "cell_type": "code",
   "execution_count": null,
   "metadata": {},
   "outputs": [],
   "source": [
    "cshoreio.setCSHORE_time(dt)"
   ]
  },
  {
   "cell_type": "code",
   "execution_count": null,
   "metadata": {},
   "outputs": [],
   "source": [
    "cshoreio.readCSHORE_nml(nmlname='namelists.nml')"
   ]
  },
  {
   "cell_type": "code",
   "execution_count": null,
   "metadata": {},
   "outputs": [],
   "source": [
    "cshoreio.makeCSHORE_meta(b_dict,waves,wl_data)"
   ]
  },
  {
   "cell_type": "code",
   "execution_count": null,
   "metadata": {},
   "outputs": [],
   "source": [
    "cshoreio.makeCSHORE_bc(b_dict,waves,wlDict=wl_data)"
   ]
  },
  {
   "cell_type": "code",
   "execution_count": null,
   "metadata": {},
   "outputs": [],
   "source": [
    "cshoreio.writeCSHORE_infile()"
   ]
  },
  {
   "cell_type": "markdown",
   "metadata": {},
   "source": [
    "## run cshore"
   ]
  },
  {
   "cell_type": "code",
   "execution_count": null,
   "metadata": {},
   "outputs": [],
   "source": [
    "cshoreio.runSimulation('/Users/rdchlth9/Public/cshore/src-repo/cshore.exe')"
   ]
  },
  {
   "cell_type": "markdown",
   "metadata": {},
   "source": [
    "## read cshore results"
   ]
  },
  {
   "cell_type": "code",
   "execution_count": null,
   "metadata": {},
   "outputs": [],
   "source": [
    "# path needs FIXED or MOBILE in the name, I put in bandaid but this needs to be fixed on line 4978 too\n",
    "cshoreio.readCSHORE_ODOC()\n",
    "cshoreio.readCSHORE_infile()\n",
    "cshoreio.readCSHORE_OBPROF()\n",
    "cshoreio.readCSHORE_OSETUP()\n",
    "cshoreio.readCSHORE_OXVELO()\n",
    "cshoreio.readCSHORE_OYVELO()\n",
    "cshoreio.readCSHORE_OCROSS()\n",
    "cshoreio.readCSHORE_OLONGS()\n",
    "cshoreio.readCSHORE_OBSUSL()"
   ]
  },
  {
   "cell_type": "code",
   "execution_count": null,
   "metadata": {},
   "outputs": [],
   "source": [
    "cshoreio.gatherCSHORE_params()\n",
    "cshoreio.gatherCSHORE_bc()\n",
    "cshoreio.gatherCSHORE_hydro()\n",
    "cshoreio.gatherCSHORE_sed()\n",
    "cshoreio.gatherCSHORE_veg()\n",
    "cshoreio.gatherCSHORE_morpho()\n",
    "cshoreio.gatherCSHORE_meta()"
   ]
  },
  {
   "cell_type": "code",
   "execution_count": null,
   "metadata": {},
   "outputs": [],
   "source": [
    "results = cshoreio._resultsToDict()"
   ]
  },
  {
   "cell_type": "code",
   "execution_count": null,
   "metadata": {},
   "outputs": [],
   "source": [
    "## plot runup"
   ]
  },
  {
   "cell_type": "code",
   "execution_count": null,
   "metadata": {},
   "outputs": [],
   "source": [
    "cshoreiofull = wrr.cshoreio(pathPrefix='/Users/rdchlth9/Codes/cmtb_refactor/notetbooks/cshore/data', fNameBase=fname+'_cmtb_full', versionPrefix='base',\n",
    "                     startTime=d1, endTime=d2, timeStep=dt, runFlag=True,\n",
    "                     generateFlag=True, readFlag=False)"
   ]
  },
  {
   "cell_type": "code",
   "execution_count": null,
   "metadata": {},
   "outputs": [],
   "source": [
    "cshoreiofull.infile"
   ]
  },
  {
   "cell_type": "code",
   "execution_count": null,
   "metadata": {},
   "outputs": [],
   "source": [
    "fileHandling.makeCMTBfileStructure(cshoreiofull.workingDirectory)"
   ]
  },
  {
   "cell_type": "code",
   "execution_count": null,
   "metadata": {},
   "outputs": [],
   "source": [
    "cshoreiofull.writeAllFiles(b_dict,waves,wlPacket=wl_data,ctdPacket=ctd_data,newModelParams={'gamma':0.64})"
   ]
  },
  {
   "cell_type": "code",
   "execution_count": null,
   "metadata": {},
   "outputs": [],
   "source": [
    "cshoreiofull.infile"
   ]
  },
  {
   "cell_type": "code",
   "execution_count": null,
   "metadata": {},
   "outputs": [],
   "source": [
    "cshoreiofull.runSimulation('/Users/rdchlth9/Public/cshore/src-repo/cshore.exe')"
   ]
  },
  {
   "cell_type": "code",
   "execution_count": null,
   "metadata": {},
   "outputs": [],
   "source": [
    "resultsfull = cshoreiofull.readAllFiles()"
   ]
  },
  {
   "cell_type": "code",
   "execution_count": null,
   "metadata": {},
   "outputs": [],
   "source": [
    "resultsfull['params']"
   ]
  },
  {
   "cell_type": "code",
   "execution_count": null,
   "metadata": {},
   "outputs": [],
   "source": []
  },
  {
   "cell_type": "code",
   "execution_count": null,
   "metadata": {},
   "outputs": [],
   "source": [
    "yy = {}\n",
    "yy['THREDDS'] = 'CHL'\n",
    "yy['bathyLoc'] = 'integrated_bathy'\n",
    "yy['startTime'] = datetime.datetime.strftime(d1,'%Y-%m-%dT%H:%M:%SZ')\n",
    "yy['endTime'] = datetime.datetime.strftime(d2,'%Y-%m-%dT%H:%M:%SZ')\n",
    "yy['modelSettings'] = {}\n",
    "yy['modelSettings']['version_prefix'] = 'base'\n",
    "yy['modelSettings']['modelName'] = 'cshore'\n",
    "yy['profileNumber'] = profile_num\n",
    "yy['simulationDuration'] = simduration\n",
    "yy['modelExecutable'] = '/Users/rdchlth9/Public/cshore/src-repo/cshore.exe'\n",
    "yy['workingDirectory'] = '/data'\n",
    "yy['netCDFdir'] = '/thredds_data'\n",
    "yy['logfileLoc'] = '/cmtb_refactor/data'\n",
    "yy['plotFlag'] = False\n",
    "yy['generateFlag'] = True\n",
    "yy['runFlag'] = True\n",
    "yy['analyzeFlag'] = True"
   ]
  },
  {
   "cell_type": "code",
   "execution_count": null,
   "metadata": {},
   "outputs": [],
   "source": [
    "stream = open('../../test.yaml', 'w')\n",
    "yaml.dump(yy,stream)"
   ]
  },
  {
   "cell_type": "code",
   "execution_count": null,
   "metadata": {},
   "outputs": [],
   "source": [
    "%run ../../genericWorkFlow.py test.yaml"
   ]
  },
  {
   "cell_type": "code",
   "execution_count": null,
   "metadata": {},
   "outputs": [],
   "source": []
  }
 ],
 "metadata": {
  "kernelspec": {
   "display_name": "Python 3",
   "language": "python",
   "name": "python3"
  },
  "language_info": {
   "codemirror_mode": {
    "name": "ipython",
    "version": 3
   },
   "file_extension": ".py",
   "mimetype": "text/x-python",
   "name": "python",
   "nbconvert_exporter": "python",
   "pygments_lexer": "ipython3",
   "version": "3.8.5"
  }
 },
 "nbformat": 4,
 "nbformat_minor": 4
}
